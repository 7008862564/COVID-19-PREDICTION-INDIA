{
 "cells": [
  {
   "cell_type": "code",
   "execution_count": 4,
   "metadata": {
    "colab": {
     "base_uri": "https://localhost:8080/"
    },
    "id": "yrPGdNv5OWS5",
    "outputId": "bbde545b-efa4-4e3e-e537-0bce1d0c1136"
   },
   "outputs": [
    {
     "ename": "ValueError",
     "evalue": "source code string cannot contain null bytes",
     "output_type": "error",
     "traceback": [
      "\u001b[1;31m---------------------------------------------------------------------------\u001b[0m",
      "\u001b[1;31mValueError\u001b[0m                                Traceback (most recent call last)",
      "\u001b[1;32m<ipython-input-4-7dd3504c366f>\u001b[0m in \u001b[0;36m<module>\u001b[1;34m\u001b[0m\n\u001b[1;32m----> 1\u001b[1;33m \u001b[1;32mimport\u001b[0m \u001b[0mpandas\u001b[0m \u001b[1;32mas\u001b[0m \u001b[0mpd\u001b[0m\u001b[1;33m\u001b[0m\u001b[1;33m\u001b[0m\u001b[0m\n\u001b[0m",
      "\u001b[1;32m~\\Anaconda3\\lib\\site-packages\\pandas\\__init__.py\u001b[0m in \u001b[0;36m<module>\u001b[1;34m\u001b[0m\n\u001b[0;32m      9\u001b[0m \u001b[1;32mfor\u001b[0m \u001b[0mdependency\u001b[0m \u001b[1;32min\u001b[0m \u001b[0mhard_dependencies\u001b[0m\u001b[1;33m:\u001b[0m\u001b[1;33m\u001b[0m\u001b[1;33m\u001b[0m\u001b[0m\n\u001b[0;32m     10\u001b[0m     \u001b[1;32mtry\u001b[0m\u001b[1;33m:\u001b[0m\u001b[1;33m\u001b[0m\u001b[1;33m\u001b[0m\u001b[0m\n\u001b[1;32m---> 11\u001b[1;33m         \u001b[0m__import__\u001b[0m\u001b[1;33m(\u001b[0m\u001b[0mdependency\u001b[0m\u001b[1;33m)\u001b[0m\u001b[1;33m\u001b[0m\u001b[1;33m\u001b[0m\u001b[0m\n\u001b[0m\u001b[0;32m     12\u001b[0m     \u001b[1;32mexcept\u001b[0m \u001b[0mImportError\u001b[0m \u001b[1;32mas\u001b[0m \u001b[0me\u001b[0m\u001b[1;33m:\u001b[0m\u001b[1;33m\u001b[0m\u001b[1;33m\u001b[0m\u001b[0m\n\u001b[0;32m     13\u001b[0m         \u001b[0mmissing_dependencies\u001b[0m\u001b[1;33m.\u001b[0m\u001b[0mappend\u001b[0m\u001b[1;33m(\u001b[0m\u001b[1;34mf\"{dependency}: {e}\"\u001b[0m\u001b[1;33m)\u001b[0m\u001b[1;33m\u001b[0m\u001b[1;33m\u001b[0m\u001b[0m\n",
      "\u001b[1;32m~\\Anaconda3\\lib\\site-packages\\numpy\\__init__.py\u001b[0m in \u001b[0;36m<module>\u001b[1;34m\u001b[0m\n\u001b[0;32m    148\u001b[0m \u001b[1;33m\u001b[0m\u001b[0m\n\u001b[0;32m    149\u001b[0m     \u001b[1;32mfrom\u001b[0m \u001b[1;33m.\u001b[0m \u001b[1;32mimport\u001b[0m \u001b[0mlinalg\u001b[0m\u001b[1;33m\u001b[0m\u001b[1;33m\u001b[0m\u001b[0m\n\u001b[1;32m--> 150\u001b[1;33m     \u001b[1;32mfrom\u001b[0m \u001b[1;33m.\u001b[0m \u001b[1;32mimport\u001b[0m \u001b[0mfft\u001b[0m\u001b[1;33m\u001b[0m\u001b[1;33m\u001b[0m\u001b[0m\n\u001b[0m\u001b[0;32m    151\u001b[0m     \u001b[1;32mfrom\u001b[0m \u001b[1;33m.\u001b[0m \u001b[1;32mimport\u001b[0m \u001b[0mpolynomial\u001b[0m\u001b[1;33m\u001b[0m\u001b[1;33m\u001b[0m\u001b[0m\n\u001b[0;32m    152\u001b[0m     \u001b[1;32mfrom\u001b[0m \u001b[1;33m.\u001b[0m \u001b[1;32mimport\u001b[0m \u001b[0mrandom\u001b[0m\u001b[1;33m\u001b[0m\u001b[1;33m\u001b[0m\u001b[0m\n",
      "\u001b[1;31mValueError\u001b[0m: source code string cannot contain null bytes"
     ]
    }
   ],
   "source": [
    "import pandas as pd"
   ]
  },
  {
   "cell_type": "code",
   "execution_count": 3,
   "metadata": {
    "colab": {
     "base_uri": "https://localhost:8080/"
    },
    "id": "Z1FNaBcV4XVd",
    "outputId": "886444b2-1c30-4f96-8bcd-e3d5f4f1f13d"
   },
   "outputs": [
    {
     "ename": "ValueError",
     "evalue": "source code string cannot contain null bytes",
     "output_type": "error",
     "traceback": [
      "\u001b[1;31m---------------------------------------------------------------------------\u001b[0m",
      "\u001b[1;31mValueError\u001b[0m                                Traceback (most recent call last)",
      "\u001b[1;32m<ipython-input-3-bea98a5c68c3>\u001b[0m in \u001b[0;36m<module>\u001b[1;34m\u001b[0m\n\u001b[0;32m      1\u001b[0m \u001b[1;31m#importing Libraries\u001b[0m\u001b[1;33m\u001b[0m\u001b[1;33m\u001b[0m\u001b[1;33m\u001b[0m\u001b[0m\n\u001b[0;32m      2\u001b[0m \u001b[1;33m\u001b[0m\u001b[0m\n\u001b[1;32m----> 3\u001b[1;33m \u001b[1;32mimport\u001b[0m \u001b[0mnumpy\u001b[0m \u001b[1;32mas\u001b[0m \u001b[0mnp\u001b[0m\u001b[1;33m\u001b[0m\u001b[1;33m\u001b[0m\u001b[0m\n\u001b[0m\u001b[0;32m      4\u001b[0m \u001b[1;32mimport\u001b[0m \u001b[0mdatetime\u001b[0m\u001b[1;33m\u001b[0m\u001b[1;33m\u001b[0m\u001b[0m\n\u001b[0;32m      5\u001b[0m \u001b[1;32mimport\u001b[0m \u001b[0mrequests\u001b[0m\u001b[1;33m\u001b[0m\u001b[1;33m\u001b[0m\u001b[0m\n",
      "\u001b[1;32m~\\Anaconda3\\lib\\site-packages\\numpy\\__init__.py\u001b[0m in \u001b[0;36m<module>\u001b[1;34m\u001b[0m\n\u001b[0;32m    148\u001b[0m \u001b[1;33m\u001b[0m\u001b[0m\n\u001b[0;32m    149\u001b[0m     \u001b[1;32mfrom\u001b[0m \u001b[1;33m.\u001b[0m \u001b[1;32mimport\u001b[0m \u001b[0mlinalg\u001b[0m\u001b[1;33m\u001b[0m\u001b[1;33m\u001b[0m\u001b[0m\n\u001b[1;32m--> 150\u001b[1;33m     \u001b[1;32mfrom\u001b[0m \u001b[1;33m.\u001b[0m \u001b[1;32mimport\u001b[0m \u001b[0mfft\u001b[0m\u001b[1;33m\u001b[0m\u001b[1;33m\u001b[0m\u001b[0m\n\u001b[0m\u001b[0;32m    151\u001b[0m     \u001b[1;32mfrom\u001b[0m \u001b[1;33m.\u001b[0m \u001b[1;32mimport\u001b[0m \u001b[0mpolynomial\u001b[0m\u001b[1;33m\u001b[0m\u001b[1;33m\u001b[0m\u001b[0m\n\u001b[0;32m    152\u001b[0m     \u001b[1;32mfrom\u001b[0m \u001b[1;33m.\u001b[0m \u001b[1;32mimport\u001b[0m \u001b[0mrandom\u001b[0m\u001b[1;33m\u001b[0m\u001b[1;33m\u001b[0m\u001b[0m\n",
      "\u001b[1;31mValueError\u001b[0m: source code string cannot contain null bytes"
     ]
    }
   ],
   "source": [
    "#importing Libraries\n",
    "\n",
    "import numpy as np\n",
    "import datetime\n",
    "import requests\n",
    "import warnings\n",
    "\n",
    "import matplotlib.pyplot as plt\n",
    "import matplotlib\n",
    "import matplotlib.dates as mdates\n",
    "import seaborn as sns\n",
    "import plotly.offline as py\n",
    "import plotly_express as px\n",
    "\n",
    "\n",
    "from xgboost import XGBRegressor\n",
    "from lightgbm import LGBMRegressor\n",
    "from sklearn.ensemble import RandomForestRegressor\n",
    "from sklearn.svm import SVR\n",
    "from sklearn.metrics import mean_squared_error, mean_absolute_error\n",
    "from sklearn.preprocessing import OrdinalEncoder\n",
    "from sklearn.svm import SVR\n",
    "from sklearn.model_selection import train_test_split\n",
    "from statsmodels.tsa.arima_model import ARIMA\n",
    "from fbprophet import Prophet\n",
    "from fbprophet.plot import plot_plotly, add_changepoints_to_plot\n",
    "\n",
    "from IPython.display import Image\n",
    "warnings.filterwarnings('ignore')\n",
    "%matplotlib inline"
   ]
  },
  {
   "cell_type": "markdown",
   "metadata": {
    "id": "KfKp0_cM4XVl"
   },
   "source": [
    "# LOADING THE DATA"
   ]
  },
  {
   "cell_type": "code",
   "execution_count": null,
   "metadata": {
    "id": "8GFwUuW24XVl"
   },
   "outputs": [],
   "source": [
    "df=pd.read_csv(\"covid19_india.csv\")"
   ]
  },
  {
   "cell_type": "code",
   "execution_count": null,
   "metadata": {
    "id": "YUNZhVtG4XVo"
   },
   "outputs": [],
   "source": [
    "df_one=pd.read_csv(\"India.csv\")"
   ]
  },
  {
   "cell_type": "markdown",
   "metadata": {
    "id": "TXTnL2fm4XVq"
   },
   "source": [
    "# DATA OF INDIA (COVID)"
   ]
  },
  {
   "cell_type": "code",
   "execution_count": null,
   "metadata": {
    "colab": {
     "base_uri": "https://localhost:8080/",
     "height": 402
    },
    "id": "EfgG27Fx4XVr",
    "outputId": "4a30c436-f4e1-4c16-9a3c-ca8902b1c96d"
   },
   "outputs": [],
   "source": [
    "df"
   ]
  },
  {
   "cell_type": "code",
   "execution_count": null,
   "metadata": {
    "colab": {
     "base_uri": "https://localhost:8080/",
     "height": 402
    },
    "id": "g2_ICW0n4XVu",
    "outputId": "b927687f-0ff5-4da6-ea20-38ed46f6e838"
   },
   "outputs": [],
   "source": [
    "df_one"
   ]
  },
  {
   "cell_type": "code",
   "execution_count": null,
   "metadata": {
    "colab": {
     "base_uri": "https://localhost:8080/",
     "height": 491
    },
    "id": "pfC4xx8f4XVw",
    "outputId": "458613da-2d55-46e9-eee8-5da9f3fa22c1"
   },
   "outputs": [],
   "source": [
    "df.tail(15)# recent  15 days's cases statewise"
   ]
  },
  {
   "cell_type": "code",
   "execution_count": null,
   "metadata": {
    "colab": {
     "base_uri": "https://localhost:8080/",
     "height": 491
    },
    "id": "aN_yf8GN4XVz",
    "outputId": "6826263b-1ba9-4a19-e6fa-4314fde6735b"
   },
   "outputs": [],
   "source": [
    "df_one.tail(15)#recent  15 days's cases of Country"
   ]
  },
  {
   "cell_type": "code",
   "execution_count": null,
   "metadata": {
    "colab": {
     "base_uri": "https://localhost:8080/"
    },
    "id": "VJ-3nfXR4XV1",
    "outputId": "b593c412-3372-4dea-876a-bd1f86d285e7"
   },
   "outputs": [],
   "source": [
    "df.dtypes"
   ]
  },
  {
   "cell_type": "code",
   "execution_count": null,
   "metadata": {
    "colab": {
     "base_uri": "https://localhost:8080/"
    },
    "id": "YD89gq-14XV4",
    "outputId": "fc4b7a91-493f-40b7-ecc6-e718677b9546"
   },
   "outputs": [],
   "source": [
    "df_one.dtypes"
   ]
  },
  {
   "cell_type": "code",
   "execution_count": null,
   "metadata": {
    "colab": {
     "base_uri": "https://localhost:8080/"
    },
    "id": "yAQKpQJl4XV7",
    "outputId": "78cf76fa-d256-475e-dd82-dd70e2c1fc60"
   },
   "outputs": [],
   "source": [
    "df.info()"
   ]
  },
  {
   "cell_type": "code",
   "execution_count": null,
   "metadata": {
    "colab": {
     "base_uri": "https://localhost:8080/"
    },
    "id": "sEhdn0gH4XV9",
    "outputId": "41bce260-7102-4100-bb71-b35c4ac908ba"
   },
   "outputs": [],
   "source": [
    "df_one.info()"
   ]
  },
  {
   "cell_type": "code",
   "execution_count": null,
   "metadata": {
    "colab": {
     "base_uri": "https://localhost:8080/",
     "height": 402
    },
    "id": "OOwfoD-74XWA",
    "outputId": "9bbd2829-d7c7-49fd-e9a9-838ae7a84f10"
   },
   "outputs": [],
   "source": [
    "df.isnull()"
   ]
  },
  {
   "cell_type": "code",
   "execution_count": null,
   "metadata": {
    "colab": {
     "base_uri": "https://localhost:8080/",
     "height": 402
    },
    "id": "hWOzkWHF4XWC",
    "outputId": "c7e894e8-1751-44a1-e828-cea2948cd3f7"
   },
   "outputs": [],
   "source": [
    "df_one.isnull()"
   ]
  },
  {
   "cell_type": "code",
   "execution_count": null,
   "metadata": {
    "colab": {
     "base_uri": "https://localhost:8080/"
    },
    "id": "kWQFkRoA4XWE",
    "outputId": "a83875b8-6ced-494c-df3e-28e389cc5b3a"
   },
   "outputs": [],
   "source": [
    "df.isnull().sum() #checking for null values"
   ]
  },
  {
   "cell_type": "code",
   "execution_count": null,
   "metadata": {
    "colab": {
     "base_uri": "https://localhost:8080/"
    },
    "id": "eblErXE-4XWH",
    "outputId": "e8e37fe8-2f1e-457b-cb2d-8c1dea528404"
   },
   "outputs": [],
   "source": [
    "df_one.isnull().sum()"
   ]
  },
  {
   "cell_type": "code",
   "execution_count": null,
   "metadata": {
    "colab": {
     "base_uri": "https://localhost:8080/",
     "height": 1000
    },
    "id": "gh2RSaKG4XWJ",
    "outputId": "3e495f5c-525f-4311-d8ff-46772e7a4d48"
   },
   "outputs": [],
   "source": [
    "state_cases = df.groupby('State')['Confirmed','Deceased','Recovered'].max().reset_index()\n",
    "\n",
    "state_cases"
   ]
  },
  {
   "cell_type": "code",
   "execution_count": null,
   "metadata": {
    "colab": {
     "base_uri": "https://localhost:8080/",
     "height": 1000
    },
    "id": "evWvaEz24XWL",
    "outputId": "92a1b714-612c-42ba-dd53-1ca48d6abc65"
   },
   "outputs": [],
   "source": [
    "#Creating new columns 'Active', 'Death rate per 100' and 'Cure rate per 100'\n",
    "state_cases['Active'] = state_cases['Confirmed'] - (state_cases['Recovered'] + state_cases['Deceased'])\n",
    "state_cases"
   ]
  },
  {
   "cell_type": "code",
   "execution_count": null,
   "metadata": {
    "colab": {
     "base_uri": "https://localhost:8080/",
     "height": 758
    },
    "id": "zTXG4Q394XWN",
    "outputId": "3b7df6a1-020b-44bc-a386-136d26dd6bce"
   },
   "outputs": [],
   "source": [
    "#Sort by maximum Confirmed Cases\n",
    "state_cases = state_cases.sort_values(by='Confirmed', ascending=False) \n",
    "state_cases.style.background_gradient(cmap='Blues',subset=[\"Confirmed\"])\\\n",
    "                        .background_gradient(cmap='Reds',subset=[\"Deceased\"])\\\n",
    "                        .background_gradient(cmap='Greens',subset=[\"Recovered\"])\\\n",
    "                        .background_gradient(cmap='Blues', subset=[\"Active\"])\\\n",
    "                        "
   ]
  },
  {
   "cell_type": "markdown",
   "metadata": {
    "id": "kw9Wmww44XWR"
   },
   "source": [
    "# VISUALIZATION OF COVID-19 INDIA CASES"
   ]
  },
  {
   "cell_type": "code",
   "execution_count": null,
   "metadata": {
    "colab": {
     "base_uri": "https://localhost:8080/",
     "height": 729
    },
    "id": "zwXld5s94XWS",
    "outputId": "46bdde57-d119-4bdf-8415-03b3fdea7704"
   },
   "outputs": [],
   "source": [
    "confirmed = state_cases['Confirmed'].sum()\n",
    "recovered = state_cases['Recovered'].sum()\n",
    "deaths = state_cases['Deceased'].sum()\n",
    "active = state_cases['Active'].sum()\n",
    "\n",
    "labels = ['Active','Recovered','Deceased']\n",
    "sizes = [active,recovered,deaths]\n",
    "color= ['#66b3ff','green','red']\n",
    "explode = []\n",
    "\n",
    "for i in labels:\n",
    "    explode.append(0.05)\n",
    "    \n",
    "plt.figure(figsize= (15,10))\n",
    "plt.pie(sizes, labels=labels, autopct='%1.1f%%', startangle=9, explode =explode,colors = color)\n",
    "centre_circle = plt.Circle((0,0),0.70,fc='white')\n",
    "\n",
    "fig = plt.gcf()\n",
    "fig.gca().add_artist(centre_circle)\n",
    "plt.title('INDIA COVID-19 Cases',fontsize = 20)\n",
    "plt.axis('equal')  \n",
    "plt.tight_layout()"
   ]
  },
  {
   "cell_type": "markdown",
   "metadata": {
    "id": "uGAhs0G54XWU"
   },
   "source": [
    "# Plot for Total Confirmed cases in India (State wise Anlaysis)"
   ]
  },
  {
   "cell_type": "markdown",
   "metadata": {
    "id": "764Yj9bv4XWU"
   },
   "source": [
    "Bar plot of Confirmed cases statewise"
   ]
  },
  {
   "cell_type": "code",
   "execution_count": null,
   "metadata": {
    "colab": {
     "base_uri": "https://localhost:8080/",
     "height": 617
    },
    "id": "RXh_yUHQ4XWV",
    "outputId": "551bb957-e08e-4f11-fa55-06bdf7056720"
   },
   "outputs": [],
   "source": [
    "\n",
    "import datetime \n",
    "today='28-10-2020'\n",
    "#today = datetime.date.today() # today date\n",
    "yesterday = '27-10-2020'\n",
    "df1= df[df['Date']==yesterday] # Below the plot I have shown the dataframe\n",
    "fig = px.bar(df1, x='State', y='Confirmed', height=600)\n",
    "fig.update_layout(\n",
    "    title='Till {} Total Confirmed Cases in India'.format(yesterday))\n",
    "fig.show()\n",
    "#df1"
   ]
  },
  {
   "cell_type": "markdown",
   "metadata": {
    "id": "-rbSGGq24XWX"
   },
   "source": [
    "Plot for Total Death cases in India (State wise Anlaysis)"
   ]
  },
  {
   "cell_type": "code",
   "execution_count": null,
   "metadata": {
    "colab": {
     "base_uri": "https://localhost:8080/",
     "height": 617
    },
    "id": "jMBFMavU4XWX",
    "outputId": "b43c9996-9726-4289-a4d0-cdb8b8ef8138"
   },
   "outputs": [],
   "source": [
    "#plot for Total Death cases in India (State wise Anlaysis)\n",
    "import datetime \n",
    "today='28-10-2020'\n",
    "#today = datetime.date.today() # today date\n",
    "yesterday = '27-10-2020'\n",
    "df1= df[df['Date']==yesterday] # Below the plot I have shown the dataframe\n",
    "fig = px.bar(df1, x='State', y='Deceased', height=600)\n",
    "fig.update_layout(\n",
    "    title='Till {} Total Death Cases in India'.format(yesterday))\n",
    "fig.show()\n",
    "#df1"
   ]
  },
  {
   "cell_type": "markdown",
   "metadata": {
    "id": "A0IRpTQp4XWZ"
   },
   "source": [
    "Plot for Total Active cases in India (State wise Anlaysis)"
   ]
  },
  {
   "cell_type": "code",
   "execution_count": null,
   "metadata": {
    "colab": {
     "base_uri": "https://localhost:8080/",
     "height": 617
    },
    "id": "Bw8KcNfK4XWa",
    "outputId": "0930708c-ee04-4b32-c0c4-420a03359155"
   },
   "outputs": [],
   "source": [
    "#plot for Total Active cases in India (State wise Anlaysis)\n",
    "import datetime \n",
    "df1= state_cases # Below the plot I have shown the dataframe\n",
    "fig = px.bar(df1, x='State', y='Active', height=600)\n",
    "fig.update_layout(\n",
    "    title='Till {} Total Active Cases in India'.format(yesterday))\n",
    "fig.show()\n",
    "#df1"
   ]
  },
  {
   "cell_type": "markdown",
   "metadata": {
    "id": "u2sshWDU4XWc"
   },
   "source": [
    "# DATE WISE DATA PLOTTING OF PREVIOUS MONTH"
   ]
  },
  {
   "cell_type": "code",
   "execution_count": null,
   "metadata": {
    "id": "-rXtrdGg4XWc"
   },
   "outputs": [],
   "source": []
  },
  {
   "cell_type": "code",
   "execution_count": null,
   "metadata": {
    "colab": {
     "base_uri": "https://localhost:8080/"
    },
    "id": "ubMwtqvX4XWe",
    "outputId": "7ed07289-336f-4d18-b2ca-63857ebef9d4"
   },
   "outputs": [],
   "source": [
    "region_dict = dict()\n",
    "regions = df.groupby('State')\n",
    "for region, group in regions:\n",
    "    region_dict[region]=group\n",
    "\n"
   ]
  },
  {
   "cell_type": "code",
   "execution_count": null,
   "metadata": {
    "colab": {
     "base_uri": "https://localhost:8080/",
     "height": 1000
    },
    "id": "5x5Zqa3s4XWg",
    "outputId": "dfb6f73c-9266-4685-8d57-945f7a05b617"
   },
   "outputs": [],
   "source": [
    " for name, obj in region_dict.items():\n",
    "        plt.scatter(x=obj.Date, y=obj.Confirmed, s=50,label=name, alpha=0.8)\n",
    "        plt.legend()\n",
    "        plt.xticks(rotation=90)\n",
    "        plt.grid(True)\n",
    "        plt.show()  \n"
   ]
  },
  {
   "cell_type": "code",
   "execution_count": null,
   "metadata": {
    "colab": {
     "base_uri": "https://localhost:8080/",
     "height": 1000
    },
    "id": "BXd3ra8R4XWi",
    "outputId": "8bbf30bd-e676-4c6d-833e-6dce83fbeae3"
   },
   "outputs": [],
   "source": [
    " for name, obj in region_dict.items():\n",
    "        plt.scatter(x=obj.Date, y=obj.Deceased, s=50,label=name, alpha=0.8)\n",
    "        plt.legend()\n",
    "        plt.xticks(rotation=90)\n",
    "        plt.grid(True)\n",
    "        plt.show()  \n"
   ]
  },
  {
   "cell_type": "code",
   "execution_count": null,
   "metadata": {
    "colab": {
     "base_uri": "https://localhost:8080/",
     "height": 1000
    },
    "id": "Lr8sfgvB4XWl",
    "outputId": "54e8edff-0774-4344-e0b7-f15c87368ce4"
   },
   "outputs": [],
   "source": [
    " for name, obj in region_dict.items():\n",
    "        plt.scatter(x=obj.Date, y=obj.Recovered, s=50,label=name, alpha=0.8)\n",
    "        plt.legend()\n",
    "        plt.xticks(rotation=90)\n",
    "        plt.grid(True)\n",
    "        plt.show()  \n"
   ]
  },
  {
   "cell_type": "code",
   "execution_count": null,
   "metadata": {
    "id": "iv6niAGtusbX"
   },
   "outputs": [],
   "source": [
    "import datetime\n",
    "import matplotlib.dates as mdates"
   ]
  },
  {
   "cell_type": "code",
   "execution_count": null,
   "metadata": {
    "colab": {
     "base_uri": "https://localhost:8080/",
     "height": 307
    },
    "id": "urQg1ikhTv90",
    "outputId": "664668ea-6189-49e7-b46a-6e1666d80c89"
   },
   "outputs": [],
   "source": [
    "sns.lineplot(x=\"Date\", y=\"Confirmed\",legend = 'full' , data=df_one)"
   ]
  },
  {
   "cell_type": "code",
   "execution_count": null,
   "metadata": {
    "id": "w3OYABuNPH9Y"
   },
   "outputs": [],
   "source": [
    "categories = df.State.unique()"
   ]
  },
  {
   "cell_type": "code",
   "execution_count": null,
   "metadata": {
    "id": "4bAFsDve0MEQ"
   },
   "outputs": [],
   "source": [
    "from sklearn.preprocessing import LabelEncoder\n",
    "l=LabelEncoder()\n",
    "label = l.fit_transform(df[\"State\"])"
   ]
  },
  {
   "cell_type": "code",
   "execution_count": null,
   "metadata": {
    "id": "rBi2yJh-0RAQ"
   },
   "outputs": [],
   "source": [
    "df[\"State_num\"]=label"
   ]
  },
  {
   "cell_type": "code",
   "execution_count": null,
   "metadata": {
    "colab": {
     "base_uri": "https://localhost:8080/"
    },
    "id": "KuQmqRXh0Uir",
    "outputId": "b4f61911-9e4a-49a7-f37e-22c16584f714"
   },
   "outputs": [],
   "source": [
    "categories_num = df.State_num.unique()\n",
    "categories_num=np.sort(categories_num)\n",
    "categories_num"
   ]
  },
  {
   "cell_type": "code",
   "execution_count": null,
   "metadata": {
    "colab": {
     "base_uri": "https://localhost:8080/"
    },
    "id": "7pddTZ3Q0YrY",
    "outputId": "1c430b76-662f-476f-d228-38c0dd8c1032"
   },
   "outputs": [],
   "source": [
    "categories=np.sort(categories)\n",
    "categories"
   ]
  },
  {
   "cell_type": "code",
   "execution_count": null,
   "metadata": {
    "colab": {
     "base_uri": "https://localhost:8080/"
    },
    "id": "Lg8kl7he0lot",
    "outputId": "a355838c-78b8-4451-cb3e-8a558ae5c95d"
   },
   "outputs": [],
   "source": [
    "res = dict(zip(categories,categories_num))\n",
    "res"
   ]
  },
  {
   "cell_type": "code",
   "execution_count": null,
   "metadata": {
    "colab": {
     "base_uri": "https://localhost:8080/",
     "height": 402
    },
    "id": "jKKyJQpJ0oYZ",
    "outputId": "b2cf7ca5-0d75-4e7b-8a62-f8598a9ceb4a"
   },
   "outputs": [],
   "source": [
    "df[\"map_State\"] = df[\"State\"].map(res)\n",
    "df"
   ]
  },
  {
   "cell_type": "code",
   "execution_count": null,
   "metadata": {
    "id": "BZoxDiiT02FX"
   },
   "outputs": [],
   "source": [
    "df[\"Date\"]=pd.to_datetime(df[\"Date\"])\n",
    "df[\"Date\"] = df[\"Date\"].dt.strftime('%Y%m%d')\n",
    "df['Date'] = df['Date'].astype(int)"
   ]
  },
  {
   "cell_type": "code",
   "execution_count": null,
   "metadata": {
    "id": "rLpg8g9f0958"
   },
   "outputs": [],
   "source": []
  },
  {
   "cell_type": "code",
   "execution_count": null,
   "metadata": {
    "id": "KkGwECmm02B2"
   },
   "outputs": [],
   "source": [
    "X=df[['Date','map_State']]\n",
    "y=df[['Confirmed']]\n"
   ]
  },
  {
   "cell_type": "code",
   "execution_count": null,
   "metadata": {
    "id": "1yWe9tdG0_7K"
   },
   "outputs": [],
   "source": [
    "X_train, X_test, y_train, y_test = train_test_split(X, y, test_size=0.30)"
   ]
  },
  {
   "cell_type": "code",
   "execution_count": null,
   "metadata": {
    "colab": {
     "base_uri": "https://localhost:8080/",
     "height": 402
    },
    "id": "3IdGI0AYfAZ2",
    "outputId": "2df8ec07-a1a5-49f3-dd5a-a0917eb35db2"
   },
   "outputs": [],
   "source": [
    "y_train"
   ]
  },
  {
   "cell_type": "code",
   "execution_count": null,
   "metadata": {
    "colab": {
     "base_uri": "https://localhost:8080/",
     "height": 402
    },
    "id": "Kr0yGNta4IGq",
    "outputId": "dfaa58dd-7ab5-4807-ee5b-c67611ba99a2"
   },
   "outputs": [],
   "source": [
    "y_test"
   ]
  },
  {
   "cell_type": "code",
   "execution_count": null,
   "metadata": {
    "id": "Kgdd2Y3nTGcq"
   },
   "outputs": [],
   "source": []
  },
  {
   "cell_type": "code",
   "execution_count": null,
   "metadata": {
    "id": "8-VREjB_w8BT"
   },
   "outputs": [],
   "source": [
    "from sklearn.model_selection import GridSearchCV, RandomizedSearchCV\n",
    "from sklearn.tree import DecisionTreeRegressor"
   ]
  },
  {
   "cell_type": "code",
   "execution_count": null,
   "metadata": {
    "id": "vP8p_cAvxD1l"
   },
   "outputs": [],
   "source": [
    "def bestparam_randCV(model,hyperparam,x_train, y_train, n_iter=1000):\n",
    "    \n",
    "    hyperparam = hyperparam\n",
    "    randomizedCV = RandomizedSearchCV(model, param_distributions = hyperparam, cv = 10,\n",
    "                                          n_iter = n_iter, scoring = 'neg_mean_squared_error', n_jobs=-1, \n",
    "                                          random_state = 42, verbose = True)\n",
    "    randomizedCV.fit(x_train, y_train)\n",
    "    \n",
    "\n",
    "    print ('Best MSE', randomizedCV.score(x_train, y_train))\n",
    "    print ('Best Param', randomizedCV.best_params_)\n",
    "    return randomizedCV"
   ]
  },
  {
   "cell_type": "code",
   "execution_count": null,
   "metadata": {
    "colab": {
     "base_uri": "https://localhost:8080/"
    },
    "id": "PSGOA739xEu4",
    "outputId": "2743f5d7-2bb7-44b5-d6fa-46d8af8e9c74"
   },
   "outputs": [],
   "source": [
    "\n",
    "reg         = DecisionTreeRegressor()             \n",
    "\n",
    "hyperparam =  {'max_features': ['auto', 'sqrt'],\n",
    "               'max_depth': [10, 20, 30, 40, 50, 60, 70, 80, 90, 100, None],\n",
    "               'min_samples_leaf': [1, 2, 4],\n",
    "               'min_samples_split': [2, 5, 10]}\n",
    " \n",
    "n_iter     = 100\n",
    "best_dt1   = bestparam_randCV(reg, hyperparam, X_train, y_train, n_iter)"
   ]
  },
  {
   "cell_type": "code",
   "execution_count": null,
   "metadata": {
    "id": "LJRR9Sp1xH49"
   },
   "outputs": [],
   "source": [
    "dt1 = DecisionTreeRegressor(\n",
    "                        max_features      = best_dt1.best_params_.get('max_features'),\n",
    "                        max_depth         = best_dt1.best_params_.get('max_depth'),\n",
    "                        min_samples_split = best_dt1.best_params_.get('min_samples_split'),\n",
    "                        min_samples_leaf  = best_dt1.best_params_.get('min_samples_leaf'))\n",
    "\n",
    "result_dt1 = dt1.fit(X_train, y_train)"
   ]
  },
  {
   "cell_type": "code",
   "execution_count": null,
   "metadata": {
    "id": "IEMzctv_CU8D"
   },
   "outputs": [],
   "source": [
    "data_test = X_test.copy()\n",
    "data_test['Confirmed_test_score']=y_test['Confirmed']"
   ]
  },
  {
   "cell_type": "code",
   "execution_count": null,
   "metadata": {
    "id": "6fWRCIikxNwP"
   },
   "outputs": [],
   "source": [
    "data_test['Confirmed_test_score_pred_DTR_HT'] = result_dt1.predict(X_test).astype(int)"
   ]
  },
  {
   "cell_type": "code",
   "execution_count": null,
   "metadata": {
    "colab": {
     "base_uri": "https://localhost:8080/",
     "height": 402
    },
    "id": "XJhsFvY-4MVA",
    "outputId": "570c568e-af7c-4fb1-e925-d7d694c11621"
   },
   "outputs": [],
   "source": [
    "data_test"
   ]
  },
  {
   "cell_type": "code",
   "execution_count": null,
   "metadata": {
    "id": "sWKubiPO4Asm"
   },
   "outputs": [],
   "source": [
    "from sklearn.metrics import r2_score"
   ]
  },
  {
   "cell_type": "code",
   "execution_count": null,
   "metadata": {
    "colab": {
     "base_uri": "https://localhost:8080/"
    },
    "id": "IFkkcwrAxPga",
    "outputId": "25ac1900-b58c-46ac-8f8c-bdd3f0066090"
   },
   "outputs": [],
   "source": [
    "AA=r2_score(y_test['Confirmed'],data_test['Confirmed_test_score_pred_DTR_HT'])\n",
    "print(\"ACCURACY OF MODEL FOR PREDICTION OF TEST DATA USING DST HYPER TUNING USING RANDOMIZED SEARCH:{}\".format(AA))"
   ]
  },
  {
   "cell_type": "code",
   "execution_count": null,
   "metadata": {
    "id": "xUjmKg8XABfB"
   },
   "outputs": [],
   "source": []
  },
  {
   "cell_type": "code",
   "execution_count": null,
   "metadata": {
    "colab": {
     "base_uri": "https://localhost:8080/"
    },
    "id": "NUVyDTd5ABzA",
    "outputId": "1878210f-23a3-4020-db73-dd17f38c308c"
   },
   "outputs": [],
   "source": [
    "from sklearn.ensemble import RandomForestRegressor\n",
    "from sklearn.metrics import r2_score\n",
    "\n",
    "model_rf = RandomForestRegressor(n_estimators=5000, oob_score=True, random_state=100)\n",
    "model_rf.fit(X_train, y_train) \n",
    "pred_train_rf= model_rf.predict(X_train)\n",
    "a=r2_score(y_train, pred_train_rf)\n",
    "print(a)\n",
    "data_test['RFR_PREDICTION'] = model_rf.predict(X_test).astype('int64')\n",
    "ACCURACY=r2_score(y_test['Confirmed'],data_test['RFR_PREDICTION'])\n",
    "print(\"ACCURACY OF MODEL FOR PREDICTION OF TEST DATA USING RANDOM FOREST REGRESSOR:{}\".format(ACCURACY))"
   ]
  },
  {
   "cell_type": "code",
   "execution_count": null,
   "metadata": {
    "colab": {
     "base_uri": "https://localhost:8080/",
     "height": 402
    },
    "id": "B05JHLqwStwP",
    "outputId": "8efaf583-1d7c-412f-b25e-ab282ebde376"
   },
   "outputs": [],
   "source": [
    "data_test"
   ]
  },
  {
   "cell_type": "code",
   "execution_count": null,
   "metadata": {
    "colab": {
     "base_uri": "https://localhost:8080/"
    },
    "id": "1RBLIzfOTJls",
    "outputId": "7dd1447d-637f-4530-84f6-94d039022ed4"
   },
   "outputs": [],
   "source": [
    "rf = RandomForestRegressor(n_estimators=100)\n",
    "rf.fit(X_train,y_train)\n",
    "\n",
    "data_test['rfr_forecast'] = rf.predict(X_test)\n",
    "ACCURACY=r2_score(y_test['Confirmed'],data_test['rfr_forecast'])\n",
    "print(\"ACCURACY OF MODEL FOR PREDICTION OF TEST DATA USING RANDOM FOREST REGRESSOR:{}\".format(ACCURACY))"
   ]
  },
  {
   "cell_type": "code",
   "execution_count": null,
   "metadata": {
    "colab": {
     "base_uri": "https://localhost:8080/",
     "height": 402
    },
    "id": "C0qwzPmiVTpV",
    "outputId": "4a3b2464-cbcb-49a8-9ac9-951c40788761"
   },
   "outputs": [],
   "source": [
    "data_test"
   ]
  },
  {
   "cell_type": "code",
   "execution_count": null,
   "metadata": {
    "colab": {
     "base_uri": "https://localhost:8080/"
    },
    "id": "h9OFPYntXkGQ",
    "outputId": "1fa7fca1-8ddd-42c2-b7e4-c06b2eeb50b9"
   },
   "outputs": [],
   "source": [
    "xgb = XGBRegressor(n_estimators=100)\n",
    "xgb.fit(X_train,y_train)\n",
    "\n",
    "data_test['xgb_forecast'] = xgb.predict(X_test)\n",
    "ACCURACY=r2_score(y_test['Confirmed'],data_test['xgb_forecast'])\n",
    "print(\"ACCURACY OF MODEL FOR PREDICTION OF TEST DATA USING XGBOOST REGRESSOR:{}\".format(ACCURACY))"
   ]
  },
  {
   "cell_type": "code",
   "execution_count": null,
   "metadata": {
    "colab": {
     "base_uri": "https://localhost:8080/"
    },
    "id": "02DopC1JYZbG",
    "outputId": "07d2606e-2875-4616-abc2-924c4acf3a98"
   },
   "outputs": [],
   "source": [
    "from sklearn.linear_model import LinearRegression\n",
    "reg = LinearRegression().fit(X_train,y_train)\n",
    "reg.score(X_train,y_train)"
   ]
  },
  {
   "cell_type": "code",
   "execution_count": null,
   "metadata": {
    "id": "4Z4j5rYJezav"
   },
   "outputs": [],
   "source": []
  }
 ],
 "metadata": {
  "colab": {
   "name": "EDA_COVID19_INDIA_SATYARATA DAS.ipynb",
   "provenance": [],
   "toc_visible": true
  },
  "kernelspec": {
   "display_name": "Python 3",
   "language": "python",
   "name": "python3"
  },
  "language_info": {
   "codemirror_mode": {
    "name": "ipython",
    "version": 3
   },
   "file_extension": ".py",
   "mimetype": "text/x-python",
   "name": "python",
   "nbconvert_exporter": "python",
   "pygments_lexer": "ipython3",
   "version": "3.7.6"
  }
 },
 "nbformat": 4,
 "nbformat_minor": 1
}
